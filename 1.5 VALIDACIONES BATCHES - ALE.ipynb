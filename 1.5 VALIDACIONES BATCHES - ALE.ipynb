{
 "cells": [
  {
   "cell_type": "markdown",
   "metadata": {},
   "source": [
    "Primero que nada debes crear una carpeta con el nombre “BATCHES” en tu computadora, esta es solo la primera vez que usas el código."
   ]
  },
  {
   "cell_type": "markdown",
   "metadata": {},
   "source": [
    "También debes tomar los bloques comunes y hacer un ajuste en el excel base, creando una nueva columna llamada \"BLOQUES COMUNES\" en ella debes hacer algo similar a esto: \"=IF(CONT.IF('[Batche 207 - Revision. xlsx ]Sheet1'!$A:$A;BL2)>0;\"V\";\"F\")\" para encontrar los bloques comunes."
   ]
  },
  {
   "cell_type": "code",
   "execution_count": 1,
   "metadata": {},
   "outputs": [],
   "source": [
    "import pandas as pd\n",
    "\n",
    "f_revision = pd.read_excel() # Cambiar Ruta\n"
   ]
  },
  {
   "cell_type": "markdown",
   "metadata": {},
   "source": [
    "Preparar y ejecutar todas las validaciones."
   ]
  },
  {
   "cell_type": "code",
   "execution_count": 2,
   "metadata": {},
   "outputs": [],
   "source": [
    "filtro = df_revision[df_revision['Q2A'] == 2] # filtrando la columna Q2A para == 2\n",
    "\n",
    "new_blocks = filtro[\"BLOCKID\"].drop_duplicates().count() # El avance de nuevos bloques en esse Batch\n",
    "\n",
    "\n",
    "df_interview_completed = df_revision[df_revision['INTERVIEW'] == 1] # Preparar la tabla dinámica para entrevistas completas\n",
    "\n",
    "df_interview_incompleted = df_revision[df_revision['INTERVIEW'].between(2, 6)] # Preparar la tabla dinámica para entrevistas incompletas o rechazadas\n",
    "\n",
    "\n",
    "\n",
    "\n",
    "pivot_interview_completed = pd.pivot_table(df_interview_completed, \n",
    "                                 values=\"RESPONSE_ID\",\n",
    "                                 index=\"INTERVIEW\",\n",
    "                                 aggfunc='count',\n",
    "                                 fill_value=0)        # tabla dinámica para entrevistas completas\n",
    "\n",
    "pivot_interview_incompleted = pd.pivot_table(df_interview_incompleted, \n",
    "                                 values=\"RESPONSE_ID\",\n",
    "                                 index=\"INTERVIEW\",\n",
    "                                 aggfunc='count',\n",
    "                                 fill_value=0)       # tabla dinámica para entrevistas incompletas o rechazadas\n",
    "\n",
    "pivot_interview_incompleted = pivot_interview_incompleted['RESPONSE_ID'].sum() # sumando las incompletas y rechazadas\n",
    "pivot_interview_completed = pivot_interview_completed['RESPONSE_ID'].sum() # sumando las completas\n",
    "total = pivot_interview_incompleted + pivot_interview_completed # sumando el total de tiendas entrevistadas\n",
    "\n",
    "\n",
    "filtro_bc = df_revision[df_revision[\"BLOQUES COMUNES\"] == \"V\"] # crear la columna de bloques comunes en la base\n",
    "\n",
    "df_bloques_comunes = filtro_bc[\"BLOQUES COMUNES\"].count() # contar cuantos bloques comunes hay en la base\n",
    "\n",
    "\n",
    "pivot_interview_bc = pd.pivot_table(filtro_bc,\n",
    "                                    values=\"RESPONSE_ID\",\n",
    "                                    index=\"PP3\",\n",
    "                                    aggfunc=\"count\",\n",
    "                                    fill_value=0\n",
    "                                    )                       # tabla dinámica para bloques comunes\n",
    "\n",
    "\n",
    "sum_interview_comp = pivot_interview_bc.loc[1:2].sum().values[0] # suma de entrevistas completas\n",
    "sum_interview_incomp = pivot_interview_bc.loc[6:9].sum().values[0] # suma de entrevistas incompletas\n",
    "sum_interview_new_stores = pivot_interview_bc.loc[3].values[0]  # novas tiendas\n",
    "total_bc_1 = pivot_interview_bc.sum() # suma de el total\n",
    "total_bc = total_bc_1.values[0] # ajustando el total"
   ]
  },
  {
   "cell_type": "markdown",
   "metadata": {},
   "source": [
    "Creando excel con todos los valores."
   ]
  },
  {
   "cell_type": "code",
   "execution_count": 3,
   "metadata": {},
   "outputs": [],
   "source": [
    "data = {\n",
    "    \"Variable\" : [\n",
    "        \"new_blocks\",\n",
    "        \"total\",\n",
    "        \"pivot_interview_completed\",\n",
    "        \"pivot_interview_incompleted\",\n",
    "        \"total_bc\",\n",
    "        \"sum_interview_comp\",\n",
    "        \"sum_interview_incomp\",\n",
    "        \"sum_interview_new_stores\"\n",
    "    ]\n",
    "    ,\n",
    "    \"Value\": [\n",
    "        new_blocks,\n",
    "        total,\n",
    "        pivot_interview_completed,\n",
    "        pivot_interview_incompleted,\n",
    "        total_bc,\n",
    "        sum_interview_comp,\n",
    "        sum_interview_incomp,\n",
    "        sum_interview_new_stores\n",
    "    ]\n",
    "}\n",
    "\n",
    "df = pd.DataFrame(data)\n",
    "\n",
    "filepath = r\"\" # Cambiar el numero del Batche\n",
    "\n",
    "df.to_excel(filepath, index=False) "
   ]
  }
 ],
 "metadata": {
  "kernelspec": {
   "display_name": "Python 3",
   "language": "python",
   "name": "python3"
  },
  "language_info": {
   "codemirror_mode": {
    "name": "ipython",
    "version": 3
   },
   "file_extension": ".py",
   "mimetype": "text/x-python",
   "name": "python",
   "nbconvert_exporter": "python",
   "pygments_lexer": "ipython3",
   "version": "3.12.4"
  }
 },
 "nbformat": 4,
 "nbformat_minor": 2
}
